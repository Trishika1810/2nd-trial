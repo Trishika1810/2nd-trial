{
  "nbformat": 4,
  "nbformat_minor": 0,
  "metadata": {
    "colab": {
      "name": "lab internal 1 .ipynb",
      "provenance": [],
      "collapsed_sections": [],
      "authorship_tag": "ABX9TyMKsS97T/Gmf3e76mbVsqJ8",
      "include_colab_link": true
    },
    "kernelspec": {
      "name": "python3",
      "display_name": "Python 3"
    },
    "language_info": {
      "name": "python"
    }
  },
  "cells": [
    {
      "cell_type": "markdown",
      "metadata": {
        "id": "view-in-github",
        "colab_type": "text"
      },
      "source": [
        "<a href=\"https://colab.research.google.com/github/Trishika1810/2nd-trial/blob/main/lab_internal_1_.ipynb\" target=\"_parent\"><img src=\"https://colab.research.google.com/assets/colab-badge.svg\" alt=\"Open In Colab\"/></a>"
      ]
    },
    {
      "cell_type": "code",
      "metadata": {
        "colab": {
          "base_uri": "https://localhost:8080/"
        },
        "id": "Y8WplLNCvVOp",
        "outputId": "ea48aad8-9347-4b7d-f5aa-d4b715cc89a5"
      },
      "source": [
        "# QUESTION 1 \n",
        "# Python program for explaining use of list, tuple, set and  dictonary\n",
        "  \n",
        "# Lists\n",
        "l = []\n",
        "  \n",
        "# Adding Element into list\n",
        "l.append(5)\n",
        "l.append(10)\n",
        "print(\"Adding 5 and 10 in list\", l)\n",
        "  \n",
        "# Popping Elements from list\n",
        "l.pop()\n",
        "print(\"Popped one element from list\", l)\n",
        "print()\n",
        "  \n",
        "# Set\n",
        "s = set()\n",
        "  \n",
        "# Adding element into set\n",
        "s.add(5)\n",
        "s.add(10)\n",
        "print(\"Adding 5 and 10 in set\", s)\n",
        "  \n",
        "# Removing element from set\n",
        "s.remove(5)\n",
        "print(\"Removing 5 from set\", s)\n",
        "print()\n",
        "  \n",
        "# Tuple\n",
        "t = tuple(l)\n",
        "  \n",
        "# Tuples are immutable\n",
        "print(\"Tuple\", t)\n",
        "print()\n",
        "  \n",
        "# Dictonary\n",
        "d = {}\n",
        "  \n",
        "# Adding the key value pair\n",
        "d[5] = \"Five\"\n",
        "d[10] = \"Ten\"\n",
        "print(\"Dictonary\", d)\n",
        "  \n",
        "# Removing key-value pair\n",
        "del d[10]\n",
        "print(\"Dictonary\", d)"
      ],
      "execution_count": null,
      "outputs": [
        {
          "output_type": "stream",
          "text": [
            "Adding 5 and 10 in list [5, 10]\n",
            "Popped one element from list [5]\n",
            "\n",
            "Adding 5 and 10 in set {10, 5}\n",
            "Removing 5 from set {10}\n",
            "\n",
            "Tuple (5,)\n",
            "\n",
            "Dictonary {5: 'Five', 10: 'Ten'}\n",
            "Dictonary {5: 'Five'}\n"
          ],
          "name": "stdout"
        }
      ]
    },
    {
      "cell_type": "code",
      "metadata": {
        "colab": {
          "base_uri": "https://localhost:8080/"
        },
        "id": "FM9_zkn70COG",
        "outputId": "8012f197-b715-4d4c-98c5-b6554f56f0b1"
      },
      "source": [
        "#QUESTION 2\n",
        "#python program to print a certain pattern with numbers\n",
        "rows = int(input(\"Enter the number of rows: \"))  \n",
        "  \n",
        "# This will print the rows  \n",
        "for i in range(1, rows+1):  \n",
        "    # This will print number of column  \n",
        "    for j in range(1, i + 1):  \n",
        "        print(j, end=' ')  \n",
        "    print(\"\")  "
      ],
      "execution_count": null,
      "outputs": [
        {
          "output_type": "stream",
          "text": [
            "Enter the number of rows: 5\n",
            "1 \n",
            "1 2 \n",
            "1 2 3 \n",
            "1 2 3 4 \n",
            "1 2 3 4 5 \n"
          ],
          "name": "stdout"
        }
      ]
    }
  ]
}